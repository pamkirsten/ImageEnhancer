{
 "cells": [
  {
   "cell_type": "markdown",
   "id": "f39ff433",
   "metadata": {},
   "source": [
    "# Bulk Image Enhancer"
   ]
  },
  {
   "cell_type": "markdown",
   "id": "51014239",
   "metadata": {},
   "source": [
    "**Authors:** Camarillo, Bryan and Olalia, Pamela <br>\n",
    "**Section:** STDISCM - S13"
   ]
  },
  {
   "cell_type": "code",
   "execution_count": 20,
   "id": "03c19dc6",
   "metadata": {},
   "outputs": [],
   "source": [
    "from PIL import Image, ImageEnhance\n",
    "import threading\n",
    "\n",
    "semaphore = threading.BoundedSemaphore(value=5)\n",
    "path = 'images/'\n",
    "savePath = 'enhanced/'\n",
    "file_path = 'stats.txt'\n",
    "\n",
    "f = open(\"stats.txt\", \"w\")\n",
    "f = open(\"stats.txt\", \"a\")\n",
    "def enhanceImage(filename, contrast, brightness, sharpness):\n",
    "    ifGif = filename.split('.')\n",
    "    if ifGif[1] != \"gif\":\n",
    "        semaphore.acquire()\n",
    "        image = Image.open(path + filename)\n",
    "        imageContrast = ImageEnhance.Contrast(image).enhance(contrast)\n",
    "        imageBrightness = ImageEnhance.Brightness(\n",
    "            imageContrast).enhance(brightness)\n",
    "        imageSharpness = ImageEnhance.Sharpness(\n",
    "            imageBrightness).enhance(sharpness)\n",
    "        imageSharpness.save(savePath + str(filename))\n",
    "        #print(\"PathName: \", (savePath + str(filename)))\n",
    "        f = open(\"stats.txt\", \"a\")\n",
    "        f.write((savePath + str(filename)) + \"\\n\")\n",
    "        f.close()\n",
    "        semaphore.release()\n",
    "    else:\n",
    "        semaphore.acquire()\n",
    "\n",
    "        gif = []\n",
    "        image = Image.open(path + filename)\n",
    "        for frame_num in range(image.n_frames):\n",
    "            image.seek(frame_num)\n",
    "            frame = Image.new('RGB', image.size)\n",
    "            frame.paste(image)\n",
    "            frame = frame.convert(mode='RGB')\n",
    "            imageContrast = ImageEnhance.Contrast(frame).enhance(contrast)\n",
    "            imageBrightness = ImageEnhance.Brightness(\n",
    "                imageContrast).enhance(brightness)\n",
    "            imageSharpness = ImageEnhance.Sharpness(\n",
    "                imageBrightness).enhance(sharpness)\n",
    "            gif.append(imageSharpness)\n",
    "\n",
    "        gif[0].save(savePath + filename, append_images=gif[1:],\n",
    "                    save_all=True, loop=0, duration=1)\n",
    "\n",
    "        #print(\"PathName: \", (savePath + str(filename)))\n",
    "        f = open(\"stats.txt\", \"a\")\n",
    "        f.write((savePath + str(filename)) + \"\\n\")\n",
    "\n",
    "        f.close()\n",
    "\n",
    "        semaphore.release()\n"
   ]
  },
  {
   "cell_type": "code",
   "execution_count": 21,
   "id": "e0f20c7e",
   "metadata": {},
   "outputs": [],
   "source": [
    "from os import listdir\n",
    "import cv2\n",
    "from matplotlib import pyplot as plt\n",
    "import time\n",
    "contrast = float(input('Enter Contrast Value: '))\n",
    "brightness = float(input('Enter Brightness Value: '))\n",
    "sharpness = float(input('Enter Sharpness Value: '))\n",
    "start = time.time()\n",
    "for image in listdir(path):\n",
    "    enhanceImage(image, contrast, brightness, sharpness)\n",
    "duration = time.time() - start"
   ]
  },
  {
   "cell_type": "code",
   "execution_count": 22,
   "id": "dce28a37",
   "metadata": {},
   "outputs": [
    {
     "name": "stdout",
     "output_type": "stream",
     "text": [
      "Elapsed time:  1.7719810009002686\n"
     ]
    }
   ],
   "source": [
    "print(\"Elapsed time: \", duration)"
   ]
  },
  {
   "cell_type": "markdown",
   "id": "4b70b1e1",
   "metadata": {},
   "source": [
    "# WITH THREADING"
   ]
  },
  {
   "cell_type": "code",
   "execution_count": 23,
   "id": "9af006d4",
   "metadata": {},
   "outputs": [],
   "source": [
    "import threading\n",
    "path = 'images/'\n",
    "savePath = 'enhanced/'\n",
    "endTime = int(input('Enter time duration (in seconds): '))\n",
    "counter = 0\n",
    "startTime = time.time()\n",
    "for image in listdir(path):\n",
    "    t = threading.Thread(target=enhanceImage, args=(image, contrast, brightness, sharpness,))\n",
    "    t.start()\n",
    "    counter += 1\n",
    "    \n",
    "    if endTime < time.time() - startTime:\n",
    "        break\n",
    "        \n",
    "totalDur = time.time() - startTime\n",
    "f = open('stats.txt', 'r+')\n",
    "f.truncate(0)\n",
    "\n",
    "f = open('stats.txt', 'r')\n",
    "f = open('stats.txt', 'a')\n",
    "\n",
    "f.write('IMAGES ENHANCED:'+ str(counter)+ '\\n \\nLOCATIONS: \\n')\n",
    "f.close()\n"
   ]
  },
  {
   "cell_type": "code",
   "execution_count": 24,
   "id": "71fc9000",
   "metadata": {},
   "outputs": [
    {
     "name": "stdout",
     "output_type": "stream",
     "text": [
      "Total elapsed time:  0.0116119384765625\n",
      "Total images enhanced:  12\n"
     ]
    }
   ],
   "source": [
    "print(\"Total elapsed time: \", totalDur)\n",
    "print(\"Total images enhanced: \", counter)"
   ]
  }
 ],
 "metadata": {
  "kernelspec": {
   "display_name": "Python 3.10.1 64-bit",
   "language": "python",
   "name": "python3"
  },
  "language_info": {
   "codemirror_mode": {
    "name": "ipython",
    "version": 3
   },
   "file_extension": ".py",
   "mimetype": "text/x-python",
   "name": "python",
   "nbconvert_exporter": "python",
   "pygments_lexer": "ipython3",
   "version": "3.10.1"
  },
  "vscode": {
   "interpreter": {
    "hash": "aee8b7b246df8f9039afb4144a1f6fd8d2ca17a180786b69acc140d282b71a49"
   }
  }
 },
 "nbformat": 4,
 "nbformat_minor": 5
}
